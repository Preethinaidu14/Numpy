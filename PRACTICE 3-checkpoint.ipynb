{
 "cells": [
  {
   "cell_type": "markdown",
   "metadata": {},
   "source": [
    "## NUMPY"
   ]
  },
  {
   "cell_type": "code",
   "execution_count": 1,
   "metadata": {},
   "outputs": [],
   "source": [
    "import numpy as np"
   ]
  },
  {
   "cell_type": "code",
   "execution_count": 2,
   "metadata": {},
   "outputs": [
    {
     "data": {
      "text/plain": [
       "3.141592653589793"
      ]
     },
     "execution_count": 2,
     "metadata": {},
     "output_type": "execute_result"
    }
   ],
   "source": [
    "np.pi"
   ]
  },
  {
   "cell_type": "code",
   "execution_count": 3,
   "metadata": {},
   "outputs": [
    {
     "data": {
      "text/plain": [
       "0.7071067811865476"
      ]
     },
     "execution_count": 3,
     "metadata": {},
     "output_type": "execute_result"
    }
   ],
   "source": [
    "np.sin(np.pi/4)"
   ]
  },
  {
   "cell_type": "code",
   "execution_count": 4,
   "metadata": {},
   "outputs": [
    {
     "data": {
      "text/plain": [
       "0.7615941559557649"
      ]
     },
     "execution_count": 4,
     "metadata": {},
     "output_type": "execute_result"
    }
   ],
   "source": [
    "np.tanh(1)"
   ]
  },
  {
   "cell_type": "code",
   "execution_count": 6,
   "metadata": {},
   "outputs": [
    {
     "data": {
      "text/plain": [
       "1.3862943611198906"
      ]
     },
     "execution_count": 6,
     "metadata": {},
     "output_type": "execute_result"
    }
   ],
   "source": [
    "np.log(4)"
   ]
  },
  {
   "cell_type": "code",
   "execution_count": 7,
   "metadata": {},
   "outputs": [
    {
     "data": {
      "text/plain": [
       "1.4142135623730951"
      ]
     },
     "execution_count": 7,
     "metadata": {},
     "output_type": "execute_result"
    }
   ],
   "source": [
    "np.sqrt(2)"
   ]
  },
  {
   "cell_type": "markdown",
   "metadata": {},
   "source": [
    "##  VECTOR "
   ]
  },
  {
   "cell_type": "code",
   "execution_count": 8,
   "metadata": {},
   "outputs": [
    {
     "data": {
      "text/plain": [
       "1"
      ]
     },
     "execution_count": 8,
     "metadata": {},
     "output_type": "execute_result"
    }
   ],
   "source": [
    "u = np.array([2,3,-1])\n",
    "v = np.array([1,2,5])\n",
    "v[0]"
   ]
  },
  {
   "cell_type": "code",
   "execution_count": 10,
   "metadata": {},
   "outputs": [
    {
     "data": {
      "text/plain": [
       "-1"
      ]
     },
     "execution_count": 10,
     "metadata": {},
     "output_type": "execute_result"
    }
   ],
   "source": [
    "u[2]"
   ]
  },
  {
   "cell_type": "code",
   "execution_count": 11,
   "metadata": {},
   "outputs": [
    {
     "data": {
      "text/plain": [
       "array([3, 5, 4])"
      ]
     },
     "execution_count": 11,
     "metadata": {},
     "output_type": "execute_result"
    }
   ],
   "source": [
    "u+v"
   ]
  },
  {
   "cell_type": "code",
   "execution_count": 12,
   "metadata": {},
   "outputs": [
    {
     "data": {
      "text/plain": [
       "array([ 7, 12, 13])"
      ]
     },
     "execution_count": 12,
     "metadata": {},
     "output_type": "execute_result"
    }
   ],
   "source": [
    "2*u+3*v"
   ]
  },
  {
   "cell_type": "code",
   "execution_count": 13,
   "metadata": {},
   "outputs": [
    {
     "data": {
      "text/plain": [
       "5.477225575051661"
      ]
     },
     "execution_count": 13,
     "metadata": {},
     "output_type": "execute_result"
    }
   ],
   "source": [
    "np.linalg.norm(v)\n"
   ]
  },
  {
   "cell_type": "code",
   "execution_count": 14,
   "metadata": {},
   "outputs": [
    {
     "data": {
      "text/plain": [
       "5.477225575051661"
      ]
     },
     "execution_count": 14,
     "metadata": {},
     "output_type": "execute_result"
    }
   ],
   "source": [
    "np.sqrt(30)"
   ]
  },
  {
   "cell_type": "code",
   "execution_count": 15,
   "metadata": {},
   "outputs": [
    {
     "data": {
      "text/plain": [
       "array([ 2,  6, -5])"
      ]
     },
     "execution_count": 15,
     "metadata": {},
     "output_type": "execute_result"
    }
   ],
   "source": [
    "u*v       #this is not dot product"
   ]
  },
  {
   "cell_type": "code",
   "execution_count": 16,
   "metadata": {},
   "outputs": [
    {
     "data": {
      "text/plain": [
       "2.6666666666666665"
      ]
     },
     "execution_count": 16,
     "metadata": {},
     "output_type": "execute_result"
    }
   ],
   "source": [
    "np.average(v)"
   ]
  },
  {
   "cell_type": "code",
   "execution_count": 20,
   "metadata": {},
   "outputs": [
    {
     "data": {
      "text/plain": [
       "3"
      ]
     },
     "execution_count": 20,
     "metadata": {},
     "output_type": "execute_result"
    }
   ],
   "source": [
    "np.dot(u,v)\n"
   ]
  },
  {
   "cell_type": "code",
   "execution_count": 21,
   "metadata": {},
   "outputs": [
    {
     "data": {
      "text/plain": [
       "30"
      ]
     },
     "execution_count": 21,
     "metadata": {},
     "output_type": "execute_result"
    }
   ],
   "source": [
    "np.dot(v,v)"
   ]
  },
  {
   "cell_type": "code",
   "execution_count": 22,
   "metadata": {},
   "outputs": [
    {
     "data": {
      "text/plain": [
       "14"
      ]
     },
     "execution_count": 22,
     "metadata": {},
     "output_type": "execute_result"
    }
   ],
   "source": [
    "np.dot(u,u)"
   ]
  },
  {
   "cell_type": "code",
   "execution_count": 23,
   "metadata": {},
   "outputs": [
    {
     "data": {
      "text/plain": [
       "array([ 17, -11,   1])"
      ]
     },
     "execution_count": 23,
     "metadata": {},
     "output_type": "execute_result"
    }
   ],
   "source": [
    "np.cross(u,v)"
   ]
  },
  {
   "cell_type": "code",
   "execution_count": 26,
   "metadata": {},
   "outputs": [
    {
     "name": "stdout",
     "output_type": "stream",
     "text": [
      "[ 17 -11   1]\n"
     ]
    }
   ],
   "source": [
    "def crossproduct(u,v):\n",
    "    a = u[1]*v[2]-u[2]*v[1]\n",
    "    b = u[2]*v[0]-u[0]*v[2]\n",
    "    c = u[0]*v[1]-u[1]*v[0]\n",
    "    return np.array([a,b,c])\n",
    "u = [2,3,-1]\n",
    "v = [1,2,5]\n",
    "print(crossproduct(u,v))"
   ]
  },
  {
   "cell_type": "code",
   "execution_count": 35,
   "metadata": {},
   "outputs": [
    {
     "name": "stdout",
     "output_type": "stream",
     "text": [
      "p__ -0.5\n",
      "angle between u and v in terms of radians is__ 2.0943951023931957\n",
      "angle between u and v in degrees 120.00000000000001\n"
     ]
    }
   ],
   "source": [
    "import numpy as np\n",
    "u = np.array([2,-3,1])\n",
    "v = np.array([1,2,-3])\n",
    "a = np.dot(u,v)\n",
    "b = np.linalg.norm(u)*np.linalg.norm(v)\n",
    "p = a/b\n",
    "print(\"p__\",p)\n",
    "a = np.arccos(p)\n",
    "print(\"angle between u and v in terms of radians is__\",a)\n",
    "print(\"angle between u and v in degrees\",np.degrees(a))"
   ]
  },
  {
   "cell_type": "markdown",
   "metadata": {},
   "source": [
    "## ORTHOGONAL PROJECTION"
   ]
  },
  {
   "cell_type": "code",
   "execution_count": 36,
   "metadata": {},
   "outputs": [],
   "source": [
    "#2nd component we are projecting on 1st\n",
    "def orthogonal_projection(u,v):\n",
    "    u = np.array([2,-3,1])\n",
    "    v = np.array([1,2,-3])\n",
    "    p = ((u.dot(v))/(np.linalg.norm(u))**2)*u\n",
    "    return p\n",
    "    \n",
    "    \n"
   ]
  },
  {
   "cell_type": "code",
   "execution_count": 37,
   "metadata": {},
   "outputs": [
    {
     "data": {
      "text/plain": [
       "array([-1. ,  1.5, -0.5])"
      ]
     },
     "execution_count": 37,
     "metadata": {},
     "output_type": "execute_result"
    }
   ],
   "source": [
    "orthogonal_projection(u,v)"
   ]
  },
  {
   "cell_type": "markdown",
   "metadata": {},
   "source": [
    "## MATRIX"
   ]
  },
  {
   "cell_type": "code",
   "execution_count": 19,
   "metadata": {},
   "outputs": [
    {
     "name": "stdout",
     "output_type": "stream",
     "text": [
      "A= [[1 2 3 4]\n",
      " [5 6 7 8]\n",
      " [2 4 6 9]]\n",
      "order of the matrix_ (3, 4)\n",
      "7\n",
      "[5 6 7 8]\n",
      "7\n"
     ]
    }
   ],
   "source": [
    "import numpy as np\n",
    "A = np.array([[1,2,3,4],[5,6,7,8],[2,4,6,9]])\n",
    "print(\"A=\",A)\n",
    "print(\"order of the matrix_\",np.shape(A))    #order of the matrix\n",
    "print(A[1,2])\n",
    "print(A[1])\n",
    "print(A[1][2])"
   ]
  },
  {
   "cell_type": "code",
   "execution_count": 23,
   "metadata": {},
   "outputs": [
    {
     "data": {
      "text/plain": [
       "array([[6, 7],\n",
       "       [4, 6]])"
      ]
     },
     "execution_count": 23,
     "metadata": {},
     "output_type": "execute_result"
    }
   ],
   "source": [
    "A[1:3,1:3]"
   ]
  },
  {
   "cell_type": "code",
   "execution_count": 26,
   "metadata": {},
   "outputs": [
    {
     "data": {
      "text/plain": [
       "array([3, 7, 6])"
      ]
     },
     "execution_count": 26,
     "metadata": {},
     "output_type": "execute_result"
    }
   ],
   "source": [
    "A[:,2]  #only 2nd column"
   ]
  },
  {
   "cell_type": "code",
   "execution_count": 27,
   "metadata": {},
   "outputs": [
    {
     "data": {
      "text/plain": [
       "array([1, 2, 3, 4])"
      ]
     },
     "execution_count": 27,
     "metadata": {},
     "output_type": "execute_result"
    }
   ],
   "source": [
    "A[0,:]     #only 1st row"
   ]
  },
  {
   "cell_type": "code",
   "execution_count": 28,
   "metadata": {},
   "outputs": [
    {
     "data": {
      "text/plain": [
       "array([[1, 5, 2],\n",
       "       [2, 6, 4],\n",
       "       [3, 7, 6],\n",
       "       [4, 8, 9]])"
      ]
     },
     "execution_count": 28,
     "metadata": {},
     "output_type": "execute_result"
    }
   ],
   "source": [
    "A.T"
   ]
  },
  {
   "cell_type": "code",
   "execution_count": 29,
   "metadata": {},
   "outputs": [
    {
     "data": {
      "text/plain": [
       "array([[ 2,  4,  6,  8],\n",
       "       [10, 12, 14, 16],\n",
       "       [ 4,  8, 12, 18]])"
      ]
     },
     "execution_count": 29,
     "metadata": {},
     "output_type": "execute_result"
    }
   ],
   "source": [
    "2*A"
   ]
  },
  {
   "cell_type": "code",
   "execution_count": 30,
   "metadata": {},
   "outputs": [
    {
     "data": {
      "text/plain": [
       "array([[ 2,  4,  6,  8],\n",
       "       [10, 12, 14, 16],\n",
       "       [ 4,  8, 12, 18]])"
      ]
     },
     "execution_count": 30,
     "metadata": {},
     "output_type": "execute_result"
    }
   ],
   "source": [
    "A+A"
   ]
  },
  {
   "cell_type": "markdown",
   "metadata": {},
   "source": [
    "## A.B "
   ]
  },
  {
   "cell_type": "markdown",
   "metadata": {},
   "source": [
    "For that we need to generate a new matrix B "
   ]
  },
  {
   "cell_type": "code",
   "execution_count": 50,
   "metadata": {},
   "outputs": [
    {
     "name": "stdout",
     "output_type": "stream",
     "text": [
      "B= [[1 7 5]\n",
      " [8 5 2]\n",
      " [8 7 6]\n",
      " [2 3 6]]\n",
      "T= [[ 49  50  51]\n",
      " [125 138 127]\n",
      " [100 103 108]]\n",
      "M= [[ 49  50  51]\n",
      " [125 138 127]\n",
      " [100 103 108]]\n",
      "[[ 1 49 25]\n",
      " [64 25  4]\n",
      " [64 49 36]\n",
      " [ 4  9 36]]\n"
     ]
    }
   ],
   "source": [
    "from numpy import random\n",
    "import numpy as np\n",
    "L = [random.randint(1,10) for i in range(12)]\n",
    "B = np.reshape(L,(4,3))\n",
    "print(\"B=\",B)\n",
    "T = A.dot(B)\n",
    "print(\"T=\",T)\n",
    "print(\"M=\",np.dot(A,B))\n",
    "print(B*B)\n",
    "\n",
    "\n"
   ]
  },
  {
   "cell_type": "code",
   "execution_count": 51,
   "metadata": {},
   "outputs": [
    {
     "data": {
      "text/plain": [
       "['LinAlgError',\n",
       " '__builtins__',\n",
       " '__cached__',\n",
       " '__doc__',\n",
       " '__file__',\n",
       " '__loader__',\n",
       " '__name__',\n",
       " '__package__',\n",
       " '__path__',\n",
       " '__spec__',\n",
       " '_umath_linalg',\n",
       " 'absolute_import',\n",
       " 'cholesky',\n",
       " 'cond',\n",
       " 'det',\n",
       " 'division',\n",
       " 'eig',\n",
       " 'eigh',\n",
       " 'eigvals',\n",
       " 'eigvalsh',\n",
       " 'info',\n",
       " 'inv',\n",
       " 'lapack_lite',\n",
       " 'linalg',\n",
       " 'lstsq',\n",
       " 'matrix_power',\n",
       " 'matrix_rank',\n",
       " 'multi_dot',\n",
       " 'norm',\n",
       " 'pinv',\n",
       " 'print_function',\n",
       " 'qr',\n",
       " 'slogdet',\n",
       " 'solve',\n",
       " 'svd',\n",
       " 'tensorinv',\n",
       " 'tensorsolve',\n",
       " 'test']"
      ]
     },
     "execution_count": 51,
     "metadata": {},
     "output_type": "execute_result"
    }
   ],
   "source": [
    "dir(np.linalg)"
   ]
  },
  {
   "cell_type": "markdown",
   "metadata": {},
   "source": [
    "# QUESTION"
   ]
  },
  {
   "cell_type": "markdown",
   "metadata": {},
   "source": [
    "1. define a matrix A,b which is 4by4 random matrix\n",
    "2. whose entries are between -10,10\n",
    "3. find det(a)\n",
    "4. a inverse\n",
    "5. det(ab) = det(a)det(b)\n",
    "6. (ab)^-1 = b^-1*a^-1\n",
    "7. (ab)tr = b(tr)*a(tr)\n",
    "8. rank(ab) <= min[rankA,rankB]\n",
    "9. find eigen value of A\n",
    "10. sum of eigen values of A = trace(a)\n",
    "11. product of eigen values = det(a)\n",
    "12. b = vector([10,20,30,40])\n",
    "13. solve AX = b where A is 4by4 matrix\n"
   ]
  },
  {
   "cell_type": "code",
   "execution_count": 70,
   "metadata": {},
   "outputs": [
    {
     "name": "stdout",
     "output_type": "stream",
     "text": [
      "A= [[  7   6  -2 -10]\n",
      " [-10  -6   3   0]\n",
      " [ -8  -4  -7   2]\n",
      " [  8  -4  -7  -3]]\n",
      "B= [[ -4   3   0   0]\n",
      " [ -9  -6   0   2]\n",
      " [  4  -2  -1  -6]\n",
      " [ -5  -5 -10   9]]\n"
     ]
    }
   ],
   "source": [
    "L = [random.randint(-10,10) for i in range(16)]\n",
    "M = [random.randint(-10,10) for i in range(16)]\n",
    "A = np.reshape(L,(4,4))\n",
    "B = np.reshape(M,(4,4))\n",
    "print(\"A=\",A)\n",
    "print(\"B=\",B)\n"
   ]
  },
  {
   "cell_type": "code",
   "execution_count": 71,
   "metadata": {},
   "outputs": [
    {
     "name": "stdout",
     "output_type": "stream",
     "text": [
      "DETERMINANT A= 9298.0\n"
     ]
    }
   ],
   "source": [
    "print(\"DETERMINANT A=\",np.linalg.det(A))"
   ]
  },
  {
   "cell_type": "code",
   "execution_count": 72,
   "metadata": {},
   "outputs": [
    {
     "name": "stdout",
     "output_type": "stream",
     "text": [
      "INVERSE A= [[-0.0290385  -0.0268875  -0.06001291  0.05678641]\n",
      " [ 0.0402237  -0.09238546  0.04979565 -0.10088191]\n",
      " [-0.0163476   0.05893741 -0.10045171 -0.0124758 ]\n",
      " [-0.09292321 -0.08604001  0.0079587  -0.0182835 ]]\n"
     ]
    }
   ],
   "source": [
    "print(\"INVERSE A=\",np.linalg.inv(A))\n"
   ]
  },
  {
   "cell_type": "code",
   "execution_count": 73,
   "metadata": {},
   "outputs": [
    {
     "name": "stdout",
     "output_type": "stream",
     "text": [
      "NEW MATRIX AFTER MULTIPLYING A AND B IS= P [[-40  39 102 -66]\n",
      " [106   0  -3 -30]\n",
      " [ 30   4 -13  52]\n",
      " [ -9  77  37   7]]\n"
     ]
    }
   ],
   "source": [
    "print(\"NEW MATRIX AFTER MULTIPLYING A AND B IS= P\",A.dot(B))"
   ]
  },
  {
   "cell_type": "code",
   "execution_count": 74,
   "metadata": {},
   "outputs": [
    {
     "name": "stdout",
     "output_type": "stream",
     "text": [
      "DETERMINANT OF (A.B)= -31324962.000000004\n",
      "DETERMINANT det(A)det(B)= -31324962.0\n"
     ]
    }
   ],
   "source": [
    "print(\"DETERMINANT OF (A.B)=\",np.linalg.det(A.dot(B)))\n",
    "print(\"DETERMINANT det(A)det(B)=\",np.linalg.det(A)*np.linalg.det(B))\n"
   ]
  },
  {
   "cell_type": "code",
   "execution_count": 76,
   "metadata": {},
   "outputs": [
    {
     "name": "stdout",
     "output_type": "stream",
     "text": [
      "(AB)^-1= [[ 0.00148118  0.00801702  0.00665268 -0.0010958 ]\n",
      " [-0.00770459  0.00172687 -0.01113406  0.01746773]\n",
      " [ 0.01570109 -0.00070991  0.02073426 -0.0090296 ]\n",
      " [ 0.0036634  -0.00493552  0.02143272 -0.00296888]]\n",
      "B^-1*A^-1= [[ 0.00148118  0.00801702  0.00665268 -0.0010958 ]\n",
      " [-0.00770459  0.00172687 -0.01113406  0.01746773]\n",
      " [ 0.01570109 -0.00070991  0.02073426 -0.0090296 ]\n",
      " [ 0.0036634  -0.00493552  0.02143272 -0.00296888]]\n"
     ]
    }
   ],
   "source": [
    "print(\"(AB)^-1=\",np.linalg.inv(A.dot(B)))\n",
    "print(\"B^-1*A^-1=\",np.linalg.inv(B).dot(np.linalg.inv(A)))"
   ]
  },
  {
   "cell_type": "code",
   "execution_count": 78,
   "metadata": {},
   "outputs": [
    {
     "name": "stdout",
     "output_type": "stream",
     "text": [
      "(A.B)^t = [[-40 106  30  -9]\n",
      " [ 39   0   4  77]\n",
      " [102  -3 -13  37]\n",
      " [-66 -30  52   7]]\n",
      "B^T.A^T = [[-40 106  30  -9]\n",
      " [ 39   0   4  77]\n",
      " [102  -3 -13  37]\n",
      " [-66 -30  52   7]]\n"
     ]
    }
   ],
   "source": [
    "print(\"(A.B)^t =\",(np.dot(A,B).T))\n",
    "print(\"B^T.A^T =\",(B.T).dot(A.T))"
   ]
  },
  {
   "cell_type": "code",
   "execution_count": 81,
   "metadata": {},
   "outputs": [
    {
     "name": "stdout",
     "output_type": "stream",
     "text": [
      "Eigen value of A= [  3.31023415+12.47594097j   3.31023415-12.47594097j\n",
      " -10.08876338 +0.j          -5.53170491 +0.j        ]\n"
     ]
    }
   ],
   "source": [
    "F = np.linalg.eigvals(A)\n",
    "print(\"Eigen value of A=\",F)"
   ]
  },
  {
   "cell_type": "code",
   "execution_count": 84,
   "metadata": {},
   "outputs": [
    {
     "name": "stdout",
     "output_type": "stream",
     "text": [
      "Show that sum of eigen values of A = Trace of A\n",
      "Show that sum of eigen values of A = (-9.00000000000001+0j)\n",
      "Trace of A= -9\n"
     ]
    }
   ],
   "source": [
    "print(\"Show that sum of eigen values of A = Trace of A\")\n",
    "print(\"Show that sum of eigen values of A =\", F[0]+F[1]+F[2]+F[3])\n",
    "print(\"Trace of A=\", np.trace(A))\n"
   ]
  },
  {
   "cell_type": "code",
   "execution_count": 85,
   "metadata": {},
   "outputs": [
    {
     "name": "stdout",
     "output_type": "stream",
     "text": [
      "Product of eigen values of A = Determinant of A\n",
      "Determinant of A = 9298.0\n",
      "Product of eigen values of A =  (9298.00000000001-0j)\n"
     ]
    }
   ],
   "source": [
    "print(\"Product of eigen values of A = Determinant of A\")\n",
    "print(\"Determinant of A =\", np.linalg.det(A))\n",
    "print(\"Product of eigen values of A = \", F[0]*F[1]*F[2]*F[3])"
   ]
  },
  {
   "cell_type": "code",
   "execution_count": 92,
   "metadata": {},
   "outputs": [
    {
     "name": "stdout",
     "output_type": "stream",
     "text": [
      "Rank(A.B) <= min[rank(A),rank(B)]\n",
      "Rank of (A.B)= 4\n",
      "Rank A = 4 and Rank B =  4\n"
     ]
    }
   ],
   "source": [
    "print(\"Rank(A.B) <= min[rank(A),rank(B)]\")\n",
    "print(\"Rank of (A.B)=\",np.linalg.matrix_rank(A.dot(B)))\n",
    "print(\"Rank A =\", np.linalg.matrix_rank(A) ,\"and Rank B = \",np.linalg.matrix_rank(B))\n"
   ]
  },
  {
   "cell_type": "code",
   "execution_count": 104,
   "metadata": {},
   "outputs": [
    {
     "name": "stdout",
     "output_type": "stream",
     "text": [
      "[-0.35706604 -3.9868789  -2.49731125 -3.14261131]\n"
     ]
    }
   ],
   "source": [
    "b = np.array([10,20,30,40])\n",
    "#X = np.array[a,b,c,d]\n",
    "x = np.linalg.solve(A,b)\n",
    "print(x)"
   ]
  },
  {
   "cell_type": "code",
   "execution_count": 105,
   "metadata": {},
   "outputs": [
    {
     "data": {
      "text/plain": [
       "True"
      ]
     },
     "execution_count": 105,
     "metadata": {},
     "output_type": "execute_result"
    }
   ],
   "source": [
    "np.allclose(np.dot(A, x), b)"
   ]
  },
  {
   "cell_type": "code",
   "execution_count": 108,
   "metadata": {},
   "outputs": [
    {
     "name": "stdout",
     "output_type": "stream",
     "text": [
      "Eigen vector of A =  (array([  3.31023415+12.47594097j,   3.31023415-12.47594097j,\n",
      "       -10.08876338 +0.j        ,  -5.53170491 +0.j        ]), array([[ 0.61940895+0.j        ,  0.61940895-0.j        ,\n",
      "        -0.3172664 +0.j        , -0.19859708+0.j        ],\n",
      "       [-0.25778668+0.3686866j , -0.25778668-0.3686866j ,\n",
      "        -0.21497495+0.j        ,  0.75294002+0.j        ],\n",
      "       [-0.26855901+0.0721424j , -0.26855901-0.0721424j ,\n",
      "        -0.76456077+0.j        , -0.54445757+0.j        ],\n",
      "       [ 0.1275872 -0.56598747j,  0.1275872 +0.56598747j,\n",
      "        -0.51824187+0.j        ,  0.31177952+0.j        ]]))\n"
     ]
    }
   ],
   "source": [
    "print(\"Eigen vector of A = \", np.linalg.eig(A))"
   ]
  },
  {
   "cell_type": "code",
   "execution_count": 110,
   "metadata": {},
   "outputs": [
    {
     "name": "stdout",
     "output_type": "stream",
     "text": [
      "Help on function multi_dot in module numpy.linalg:\n",
      "\n",
      "multi_dot(arrays)\n",
      "    Compute the dot product of two or more arrays in a single function call,\n",
      "    while automatically selecting the fastest evaluation order.\n",
      "    \n",
      "    `multi_dot` chains `numpy.dot` and uses optimal parenthesization\n",
      "    of the matrices [1]_ [2]_. Depending on the shapes of the matrices,\n",
      "    this can speed up the multiplication a lot.\n",
      "    \n",
      "    If the first argument is 1-D it is treated as a row vector.\n",
      "    If the last argument is 1-D it is treated as a column vector.\n",
      "    The other arguments must be 2-D.\n",
      "    \n",
      "    Think of `multi_dot` as::\n",
      "    \n",
      "        def multi_dot(arrays): return functools.reduce(np.dot, arrays)\n",
      "    \n",
      "    \n",
      "    Parameters\n",
      "    ----------\n",
      "    arrays : sequence of array_like\n",
      "        If the first argument is 1-D it is treated as row vector.\n",
      "        If the last argument is 1-D it is treated as column vector.\n",
      "        The other arguments must be 2-D.\n",
      "    \n",
      "    Returns\n",
      "    -------\n",
      "    output : ndarray\n",
      "        Returns the dot product of the supplied arrays.\n",
      "    \n",
      "    See Also\n",
      "    --------\n",
      "    dot : dot multiplication with two arguments.\n",
      "    \n",
      "    References\n",
      "    ----------\n",
      "    \n",
      "    .. [1] Cormen, \"Introduction to Algorithms\", Chapter 15.2, p. 370-378\n",
      "    .. [2] https://en.wikipedia.org/wiki/Matrix_chain_multiplication\n",
      "    \n",
      "    Examples\n",
      "    --------\n",
      "    `multi_dot` allows you to write::\n",
      "    \n",
      "    >>> from numpy.linalg import multi_dot\n",
      "    >>> # Prepare some data\n",
      "    >>> A = np.random.random(10000, 100)\n",
      "    >>> B = np.random.random(100, 1000)\n",
      "    >>> C = np.random.random(1000, 5)\n",
      "    >>> D = np.random.random(5, 333)\n",
      "    >>> # the actual dot multiplication\n",
      "    >>> multi_dot([A, B, C, D])\n",
      "    \n",
      "    instead of::\n",
      "    \n",
      "    >>> np.dot(np.dot(np.dot(A, B), C), D)\n",
      "    >>> # or\n",
      "    >>> A.dot(B).dot(C).dot(D)\n",
      "    \n",
      "    Notes\n",
      "    -----\n",
      "    The cost for a matrix multiplication can be calculated with the\n",
      "    following function::\n",
      "    \n",
      "        def cost(A, B):\n",
      "            return A.shape[0] * A.shape[1] * B.shape[1]\n",
      "    \n",
      "    Let's assume we have three matrices\n",
      "    :math:`A_{10x100}, B_{100x5}, C_{5x50}`.\n",
      "    \n",
      "    The costs for the two different parenthesizations are as follows::\n",
      "    \n",
      "        cost((AB)C) = 10*100*5 + 10*5*50   = 5000 + 2500   = 7500\n",
      "        cost(A(BC)) = 10*100*50 + 100*5*50 = 50000 + 25000 = 75000\n",
      "\n"
     ]
    }
   ],
   "source": [
    "help(np.linalg.multi_dot)"
   ]
  },
  {
   "cell_type": "code",
   "execution_count": 124,
   "metadata": {},
   "outputs": [
    {
     "name": "stdout",
     "output_type": "stream",
     "text": [
      "[-7, 9, 4, 7, -2, 6, -5, -5, 0, 9, -2, -5, -9, 7, 0, -4] [-7, 6, 5, 8, -10, 4, -8, -5, 5, 6, -10, -10, -10, 8, 0, 1] [7, -7, 9, 1, 3, 1, 3, -5, 7, 0, -2, 6, -4, -9, 5, -4] [-3, -7, -2, 3, 3, 5, -1, -3, 3, 0, 2, 8, -5, 0, -6, -5]\n",
      "[[-7  9  4  7]\n",
      " [-2  6 -5 -5]\n",
      " [ 0  9 -2 -5]\n",
      " [-9  7  0 -4]] [[ -7   6   5   8]\n",
      " [-10   4  -8  -5]\n",
      " [  5   6 -10 -10]\n",
      " [-10   8   0   1]] [[ 7 -7  9  1]\n",
      " [ 3  1  3 -5]\n",
      " [ 7  0 -2  6]\n",
      " [-4 -9  5 -4]] [[-3 -7 -2  3]\n",
      " [ 3  5 -1 -3]\n",
      " [ 3  0  2  8]\n",
      " [-5  0 -6 -5]]\n",
      "[[  9591  15941   2795 -12224]\n",
      " [  -768   3101  -1406  -5354]\n",
      " [  2916   7514    564  -7280]\n",
      " [  1253   4992  -1724  -5393]]\n",
      "[[  9591  15941   2795 -12224]\n",
      " [  -768   3101  -1406  -5354]\n",
      " [  2916   7514    564  -7280]\n",
      " [  1253   4992  -1724  -5393]]\n"
     ]
    }
   ],
   "source": [
    "from numpy.linalg import multi_dot\n",
    "L = [random.randint(-10,10) for i in range(16)]\n",
    "M = [random.randint(-10,10) for i in range(16)]\n",
    "N = [random.randint(-10,10) for i in range(16)]\n",
    "O = [random.randint(-10,10) for i in range(16)]\n",
    "print(L,M,N,O)\n",
    "A = np.reshape(L,(4,4))\n",
    "B = np.reshape(M,(4,4))\n",
    "C = np.reshape(N,(4,4))\n",
    "D = np.reshape(O,(4,4))\n",
    "print(A,B,C,D)\n",
    "print(np.linalg.multi_dot([A,B,C,D]))\n",
    "print(np.dot(np.dot(np.dot(A,B),C),D))\n"
   ]
  },
  {
   "cell_type": "code",
   "execution_count": 148,
   "metadata": {},
   "outputs": [
    {
     "name": "stdout",
     "output_type": "stream",
     "text": [
      "[[[0.54685045]\n",
      "  [0.12702112]\n",
      "  [0.73085686]\n",
      "  [0.61386263]\n",
      "  [0.19937355]\n",
      "  [0.93674093]\n",
      "  [0.82651546]\n",
      "  [0.48478289]\n",
      "  [0.3190561 ]\n",
      "  [0.64170431]]]\n",
      "[2 4 2 6]\n",
      "[[[ 1.54484516]\n",
      "  [-1.10708979]\n",
      "  [-0.9972464 ]\n",
      "  [-2.04587268]\n",
      "  [-0.34510363]\n",
      "  [-0.52614139]\n",
      "  [ 1.57166877]\n",
      "  [ 2.60038464]\n",
      "  [ 0.39363819]\n",
      "  [ 0.73744334]]]\n",
      "[[[0.08807116]\n",
      "  [0.54711226]\n",
      "  [0.53209979]\n",
      "  [0.21202546]\n",
      "  [0.56565206]\n",
      "  [0.44374931]\n",
      "  [0.8864535 ]\n",
      "  [0.19247869]\n",
      "  [0.77665908]\n",
      "  [0.9302078 ]]]\n",
      "[1 1 1 0 0]\n"
     ]
    }
   ],
   "source": [
    "from numpy import random\n",
    "print(np.random.random([1,10,1]))\n",
    "print(np.random.randint(1,10,4))\n",
    "print(np.random.randn(1,10,1))\n",
    "print(np.random.rand(1,10,1))\n",
    "print(np.random.choice(2,5))"
   ]
  },
  {
   "cell_type": "markdown",
   "metadata": {},
   "source": [
    "## SUBSTITUTION SCIPHER"
   ]
  },
  {
   "cell_type": "code",
   "execution_count": 182,
   "metadata": {},
   "outputs": [
    {
     "name": "stdout",
     "output_type": "stream",
     "text": [
      "i am cute\n",
      "[105, 32, 97, 109, 32, 99, 117, 116, 101]\n",
      "sentence matrix [[105  32  97]\n",
      " [109  32  99]\n",
      " [117 116 101]]\n",
      "[10, 2, 4, 2, 3, 1, 1, 9, 6]\n",
      "Random matrix [[10  2  4]\n",
      " [ 2  3  1]\n",
      " [ 1  9  6]]\n",
      "MUultiplied matrix [[105.  32.  97.]\n",
      " [109.  32.  99.]\n",
      " [117. 116. 101.]]\n",
      "List [[105.0, 32.0, 97.0], [108.99999999999999, 32.0, 98.99999999999999], [116.99999999999994, 115.99999999999999, 100.99999999999994]]\n",
      "flattened [105.0, 32.0, 97.0, 108.99999999999999, 32.0, 98.99999999999999, 116.99999999999994, 115.99999999999999, 100.99999999999994]\n",
      "rounded off list [105, 32, 97, 109, 32, 99, 117, 116, 101]\n",
      "['i', ' ', 'a', 'm', ' ', 'c', 'u', 't', 'e']\n"
     ]
    },
    {
     "data": {
      "text/plain": [
       "'i am cute'"
      ]
     },
     "execution_count": 182,
     "metadata": {},
     "output_type": "execute_result"
    }
   ],
   "source": [
    "import numpy\n",
    "import random\n",
    "s = 'i am cute'\n",
    "print(s)\n",
    "p = [ord(c) for c in s]\n",
    "print(p)\n",
    "A = np.reshape(p,(3,3))\n",
    "print(\"sentence matrix\",A)\n",
    "\n",
    "#generate random matrix\n",
    "L = [random.randint(1,10) for i in range(9)]\n",
    "print(L)\n",
    "B = np.reshape(L,(3,3))\n",
    "print(\"Random matrix\",B)\n",
    "\n",
    "# B X B^-1 X A\n",
    "E = np.dot(np.dot(B,np.linalg.inv(B)),A)\n",
    "print(\"MUultiplied matrix\",E)\n",
    "\n",
    "#list\n",
    "D = E.tolist()\n",
    "print(\"List\", D)\n",
    "\n",
    "#flattened\n",
    "flattened = [val for sublist in D for val in sublist]\n",
    "print(\"flattened\",flattened)\n",
    "\n",
    "#roundoff\n",
    "list = [round(x) for x in flattened]\n",
    "print(\"rounded off list\", list)\n",
    "\n",
    "#turn numbers to letters\n",
    "characters = [chr(ascii) for ascii in list]\n",
    "print(characters)\n",
    "\n",
    "#join the letters\n",
    "''.join(characters)\n",
    "\n",
    "\n"
   ]
  },
  {
   "cell_type": "code",
   "execution_count": null,
   "metadata": {},
   "outputs": [],
   "source": []
  }
 ],
 "metadata": {
  "kernelspec": {
   "display_name": "Python 3",
   "language": "python",
   "name": "python3"
  },
  "language_info": {
   "codemirror_mode": {
    "name": "ipython",
    "version": 3
   },
   "file_extension": ".py",
   "mimetype": "text/x-python",
   "name": "python",
   "nbconvert_exporter": "python",
   "pygments_lexer": "ipython3",
   "version": "3.7.3"
  }
 },
 "nbformat": 4,
 "nbformat_minor": 2
}
